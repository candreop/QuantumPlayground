{
 "cells": [
  {
   "cell_type": "code",
   "execution_count": 1,
   "id": "da3e427c-030c-43e7-83ec-cc9d19a54524",
   "metadata": {},
   "outputs": [],
   "source": [
    "# Implement the 3-qubit repetition code in Qiskit\n",
    "# and use it to correct a simple flip error\n",
    "#\n",
    "# C.Andreopoulos <c.andreopoulos@cern.ch>\n",
    "#"
   ]
  },
  {
   "cell_type": "code",
   "execution_count": 2,
   "id": "5bdcf328-4edd-47b0-85cf-37849534be7c",
   "metadata": {},
   "outputs": [],
   "source": [
    "import numpy as np\n",
    "\n",
    "from qiskit import ClassicalRegister\n",
    "from qiskit import QuantumRegister\n",
    "from qiskit import QuantumCircuit\n",
    "from qiskit import Aer\n",
    "from qiskit import transpile\n",
    "\n",
    "from qiskit.quantum_info.operators import Operator, Pauli\n",
    "\n",
    "from qiskit.visualization import plot_histogram"
   ]
  },
  {
   "cell_type": "markdown",
   "id": "029a7560-f7ce-4a7d-8101-79f0508085c9",
   "metadata": {},
   "source": [
    "Prepare the initial qubit whose state $|\\psi> = \\alpha|0>+\\beta|1>$ we try to protect from errors. The input list specifies the parameters $[\\alpha,\\beta]$."
   ]
  },
  {
   "cell_type": "code",
   "execution_count": 3,
   "id": "589a4695-c593-4cc7-ae8a-51f8167babe0",
   "metadata": {},
   "outputs": [],
   "source": [
    "def prepare_qubit(state=[1,0]):\n",
    "    psi = QuantumRegister(name='\\psi', size=1) \n",
    "    qc = QuantumCircuit(psi)\n",
    "    qc.initialize(state,0)\n",
    "    return qc"
   ]
  },
  {
   "cell_type": "markdown",
   "id": "2b0dec53-688a-498a-9dbd-a191bb8b430f",
   "metadata": {},
   "source": [
    "Prepare a *logical* qubit by adding two anchilla qubits, each of which is originally in the state $|0>$, and by entangling them with $|\\psi>$ creating the state $\\alpha|000>+\\beta|111>$.\\\n",
    "The logical state $|0>_L$ is defined as $|000>$, and the logical state $|1>_L$ is $|111>$."
   ]
  },
  {
   "cell_type": "code",
   "execution_count": 4,
   "id": "4b7d2927-e56c-4b06-af3b-29f502d5e76b",
   "metadata": {},
   "outputs": [],
   "source": [
    "def prepare_logical_qubit(qcpsi):\n",
    "    # Define two anchilla qubits \n",
    "    q = QuantumRegister(name='q', size=2)     \n",
    "    # Instantiate a quantum circuit with 3 qubits\n",
    "    qc = QuantumCircuit(3)\n",
    "    # Add the input qubit and the two anchilla qubits\n",
    "    qc.compose(qcpsi, 0, inplace=True)\n",
    "    qc.compose(QuantumCircuit(q), [1,2], inplace=True)\n",
    "    # Initialize anchilla qubits to |0> \n",
    "    qc.initialize([1,0],1)\n",
    "    qc.initialize([1,0],2)\n",
    "    # Entangle |psi> = a|0> + b|1> (qubit 1) with qubits 2,3 and \n",
    "    # create the state a|000> + b|111>\n",
    "    qc.cx(0,1)\n",
    "    qc.cx(0,2)\n",
    "    qc.barrier()\n",
    "    return qc"
   ]
  },
  {
   "cell_type": "markdown",
   "id": "2d3a0949-ef42-4dd0-af4f-8e8460a0cb2a",
   "metadata": {},
   "source": [
    "Add the error correcting circuit"
   ]
  },
  {
   "cell_type": "code",
   "execution_count": 5,
   "id": "485cbb68-da73-403b-88ee-5fa9556dfeea",
   "metadata": {},
   "outputs": [],
   "source": [
    "def add_error_correction_circuit(qclog):\n",
    "    # Anchilla qubits used for error syndrome measurements\n",
    "    c = QuantumRegister(name='c', size=2) \n",
    "    # Error syndrome measurements\n",
    "    error_syndrome = ClassicalRegister (name='syndrome', size=2)\n",
    "    # Instantiate a quantum circuit with 5 qubits and 2 bits\n",
    "    qc = QuantumCircuit(5,2)\n",
    "    qc.compose(qclog,[0,1,2],inplace=True)\n",
    "    qc.compose(QuantumCircuit(c,error_syndrome),[3,4],[0,1],inplace=True)\n",
    "    # Instantiate a circuit with the above quantum and classical registers\n",
    "    # # logical qubit measurements\n",
    "    # data = ClassicalRegister (name='l', size=3)\n",
    "    return qc"
   ]
  },
  {
   "cell_type": "markdown",
   "id": "6a0d3a3b-f879-4480-98cd-520baa6e427f",
   "metadata": {},
   "source": [
    "Test"
   ]
  },
  {
   "cell_type": "code",
   "execution_count": 6,
   "id": "3e16a208-f22d-44d5-8620-f2373ab6ccc5",
   "metadata": {},
   "outputs": [
    {
     "name": "stderr",
     "output_type": "stream",
     "text": [
      "/usr/local/lib/python3.10/site-packages/qiskit/visualization/circuit/matplotlib.py:266: FutureWarning: The default matplotlib drawer scheme will be changed to \"iqp\" in a following release. To silence this warning, specify the current default explicitly as style=\"clifford\", or the new default as style=\"iqp\".\n",
      "  self._style, def_font_ratio = load_style(self._style)\n"
     ]
    },
    {
     "data": {
      "image/png": "[encoded data removed]",
      "text/plain": [
       "<Figure size 538.33x284.278 with 1 Axes>"
      ]
     },
     "execution_count": 6,
     "metadata": {},
     "output_type": "execute_result"
    }
   ],
   "source": [
    "qcircuit = prepare_logical_qubit(\n",
    "             prepare_qubit(\n",
    "                 state=[1/np.sqrt(2),-1.j/np.sqrt(2)]))\n",
    "\n",
    "qcircuit2 = add_error_correction_circuit(qcircuit)\n",
    "qcircuit2.draw(\"mpl\")"
   ]
  },
  {
   "cell_type": "code",
   "execution_count": 7,
   "id": "ca64f0b1-875f-4b1f-9801-cfcf2d58af0e",
   "metadata": {},
   "outputs": [
    {
     "ename": "CircuitError",
     "evalue": "'Index 3 out of range for size 3.'",
     "output_type": "error",
     "traceback": [
      "\u001b[0;31m---------------------------------------------------------------------------\u001b[0m",
      "\u001b[0;31mIndexError\u001b[0m                                Traceback (most recent call last)",
      "File \u001b[0;32m/usr/local/lib/python3.10/site-packages/qiskit/circuit/quantumcircuit.py:5624\u001b[0m, in \u001b[0;36m_bit_argument_conversion\u001b[0;34m(specifier, bit_sequence, bit_set, type_)\u001b[0m\n\u001b[1;32m   5623\u001b[0m \u001b[38;5;28;01mtry\u001b[39;00m:\n\u001b[0;32m-> 5624\u001b[0m     \u001b[38;5;28;01mreturn\u001b[39;00m [\u001b[43mbit_sequence\u001b[49m\u001b[43m[\u001b[49m\u001b[43mspecifier\u001b[49m\u001b[43m]\u001b[49m]\n\u001b[1;32m   5625\u001b[0m \u001b[38;5;28;01mexcept\u001b[39;00m \u001b[38;5;167;01mIndexError\u001b[39;00m \u001b[38;5;28;01mas\u001b[39;00m ex:\n",
      "\u001b[0;31mIndexError\u001b[0m: list index out of range",
      "\nThe above exception was the direct cause of the following exception:\n",
      "\u001b[0;31mCircuitError\u001b[0m                              Traceback (most recent call last)",
      "Cell \u001b[0;32mIn[7], line 11\u001b[0m\n\u001b[1;32m      1\u001b[0m \u001b[38;5;66;03m# Initialize qubits\u001b[39;00m\n\u001b[1;32m      2\u001b[0m \u001b[38;5;66;03m#\u001b[39;00m\n\u001b[1;32m      3\u001b[0m \n\u001b[0;32m   (...)\u001b[0m\n\u001b[1;32m      9\u001b[0m \u001b[38;5;66;03m# qcircuit.initialize([1,0],1)\u001b[39;00m\n\u001b[1;32m     10\u001b[0m \u001b[38;5;66;03m# qcircuit.initialize([1,0],2)\u001b[39;00m\n\u001b[0;32m---> 11\u001b[0m \u001b[43mqcircuit\u001b[49m\u001b[38;5;241;43m.\u001b[39;49m\u001b[43minitialize\u001b[49m\u001b[43m(\u001b[49m\u001b[43m[\u001b[49m\u001b[38;5;241;43m1\u001b[39;49m\u001b[43m,\u001b[49m\u001b[38;5;241;43m0\u001b[39;49m\u001b[43m]\u001b[49m\u001b[43m,\u001b[49m\u001b[38;5;241;43m3\u001b[39;49m\u001b[43m)\u001b[49m\n\u001b[1;32m     12\u001b[0m qcircuit\u001b[38;5;241m.\u001b[39minitialize([\u001b[38;5;241m1\u001b[39m,\u001b[38;5;241m0\u001b[39m],\u001b[38;5;241m4\u001b[39m)\n\u001b[1;32m     14\u001b[0m qcircuit\u001b[38;5;241m.\u001b[39mbarrier()\n",
      "File \u001b[0;32m/usr/local/lib/python3.10/site-packages/qiskit/circuit/quantumcircuit.py:4246\u001b[0m, in \u001b[0;36mQuantumCircuit.initialize\u001b[0;34m(self, params, qubits, normalize)\u001b[0m\n\u001b[1;32m   4242\u001b[0m     qubits \u001b[38;5;241m=\u001b[39m [qubits]\n\u001b[1;32m   4244\u001b[0m num_qubits \u001b[38;5;241m=\u001b[39m \u001b[38;5;28mlen\u001b[39m(qubits) \u001b[38;5;28;01mif\u001b[39;00m \u001b[38;5;28misinstance\u001b[39m(params, \u001b[38;5;28mint\u001b[39m) \u001b[38;5;28;01melse\u001b[39;00m \u001b[38;5;28;01mNone\u001b[39;00m\n\u001b[0;32m-> 4246\u001b[0m \u001b[38;5;28;01mreturn\u001b[39;00m \u001b[38;5;28;43mself\u001b[39;49m\u001b[38;5;241;43m.\u001b[39;49m\u001b[43mappend\u001b[49m\u001b[43m(\u001b[49m\u001b[43mInitialize\u001b[49m\u001b[43m(\u001b[49m\u001b[43mparams\u001b[49m\u001b[43m,\u001b[49m\u001b[43m \u001b[49m\u001b[43mnum_qubits\u001b[49m\u001b[43m,\u001b[49m\u001b[43m \u001b[49m\u001b[43mnormalize\u001b[49m\u001b[43m)\u001b[49m\u001b[43m,\u001b[49m\u001b[43m \u001b[49m\u001b[43mqubits\u001b[49m\u001b[43m)\u001b[49m\n",
      "File \u001b[0;32m/usr/local/lib/python3.10/site-packages/qiskit/circuit/quantumcircuit.py:1273\u001b[0m, in \u001b[0;36mQuantumCircuit.append\u001b[0;34m(self, instruction, qargs, cargs)\u001b[0m\n\u001b[1;32m   1270\u001b[0m     \u001b[38;5;28;01mif\u001b[39;00m is_parameter:\n\u001b[1;32m   1271\u001b[0m         operation \u001b[38;5;241m=\u001b[39m copy\u001b[38;5;241m.\u001b[39mdeepcopy(operation)\n\u001b[0;32m-> 1273\u001b[0m expanded_qargs \u001b[38;5;241m=\u001b[39m [\u001b[38;5;28mself\u001b[39m\u001b[38;5;241m.\u001b[39mqbit_argument_conversion(qarg) \u001b[38;5;28;01mfor\u001b[39;00m qarg \u001b[38;5;129;01min\u001b[39;00m qargs \u001b[38;5;129;01mor\u001b[39;00m []]\n\u001b[1;32m   1274\u001b[0m expanded_cargs \u001b[38;5;241m=\u001b[39m [\u001b[38;5;28mself\u001b[39m\u001b[38;5;241m.\u001b[39mcbit_argument_conversion(carg) \u001b[38;5;28;01mfor\u001b[39;00m carg \u001b[38;5;129;01min\u001b[39;00m cargs \u001b[38;5;129;01mor\u001b[39;00m []]\n\u001b[1;32m   1276\u001b[0m \u001b[38;5;28;01mif\u001b[39;00m \u001b[38;5;28mself\u001b[39m\u001b[38;5;241m.\u001b[39m_control_flow_scopes:\n",
      "File \u001b[0;32m/usr/local/lib/python3.10/site-packages/qiskit/circuit/quantumcircuit.py:1273\u001b[0m, in \u001b[0;36m<listcomp>\u001b[0;34m(.0)\u001b[0m\n\u001b[1;32m   1270\u001b[0m     \u001b[38;5;28;01mif\u001b[39;00m is_parameter:\n\u001b[1;32m   1271\u001b[0m         operation \u001b[38;5;241m=\u001b[39m copy\u001b[38;5;241m.\u001b[39mdeepcopy(operation)\n\u001b[0;32m-> 1273\u001b[0m expanded_qargs \u001b[38;5;241m=\u001b[39m [\u001b[38;5;28;43mself\u001b[39;49m\u001b[38;5;241;43m.\u001b[39;49m\u001b[43mqbit_argument_conversion\u001b[49m\u001b[43m(\u001b[49m\u001b[43mqarg\u001b[49m\u001b[43m)\u001b[49m \u001b[38;5;28;01mfor\u001b[39;00m qarg \u001b[38;5;129;01min\u001b[39;00m qargs \u001b[38;5;129;01mor\u001b[39;00m []]\n\u001b[1;32m   1274\u001b[0m expanded_cargs \u001b[38;5;241m=\u001b[39m [\u001b[38;5;28mself\u001b[39m\u001b[38;5;241m.\u001b[39mcbit_argument_conversion(carg) \u001b[38;5;28;01mfor\u001b[39;00m carg \u001b[38;5;129;01min\u001b[39;00m cargs \u001b[38;5;129;01mor\u001b[39;00m []]\n\u001b[1;32m   1276\u001b[0m \u001b[38;5;28;01mif\u001b[39;00m \u001b[38;5;28mself\u001b[39m\u001b[38;5;241m.\u001b[39m_control_flow_scopes:\n",
      "File \u001b[0;32m/usr/local/lib/python3.10/site-packages/qiskit/circuit/quantumcircuit.py:1144\u001b[0m, in \u001b[0;36mQuantumCircuit.qbit_argument_conversion\u001b[0;34m(self, qubit_representation)\u001b[0m\n\u001b[1;32m   1133\u001b[0m \u001b[38;5;28;01mdef\u001b[39;00m \u001b[38;5;21mqbit_argument_conversion\u001b[39m(\u001b[38;5;28mself\u001b[39m, qubit_representation: QubitSpecifier) \u001b[38;5;241m-\u001b[39m\u001b[38;5;241m>\u001b[39m \u001b[38;5;28mlist\u001b[39m[Qubit]:\n\u001b[1;32m   1134\u001b[0m \u001b[38;5;250m    \u001b[39m\u001b[38;5;124;03m\"\"\"\u001b[39;00m\n\u001b[1;32m   1135\u001b[0m \u001b[38;5;124;03m    Converts several qubit representations (such as indexes, range, etc.)\u001b[39;00m\n\u001b[1;32m   1136\u001b[0m \u001b[38;5;124;03m    into a list of qubits.\u001b[39;00m\n\u001b[0;32m   (...)\u001b[0m\n\u001b[1;32m   1142\u001b[0m \u001b[38;5;124;03m        List(Qubit): the resolved instances of the qubits.\u001b[39;00m\n\u001b[1;32m   1143\u001b[0m \u001b[38;5;124;03m    \"\"\"\u001b[39;00m\n\u001b[0;32m-> 1144\u001b[0m     \u001b[38;5;28;01mreturn\u001b[39;00m \u001b[43m_bit_argument_conversion\u001b[49m\u001b[43m(\u001b[49m\n\u001b[1;32m   1145\u001b[0m \u001b[43m        \u001b[49m\u001b[43mqubit_representation\u001b[49m\u001b[43m,\u001b[49m\u001b[43m \u001b[49m\u001b[38;5;28;43mself\u001b[39;49m\u001b[38;5;241;43m.\u001b[39;49m\u001b[43mqubits\u001b[49m\u001b[43m,\u001b[49m\u001b[43m \u001b[49m\u001b[38;5;28;43mself\u001b[39;49m\u001b[38;5;241;43m.\u001b[39;49m\u001b[43m_qubit_indices\u001b[49m\u001b[43m,\u001b[49m\u001b[43m \u001b[49m\u001b[43mQubit\u001b[49m\n\u001b[1;32m   1146\u001b[0m \u001b[43m    \u001b[49m\u001b[43m)\u001b[49m\n",
      "File \u001b[0;32m/usr/local/lib/python3.10/site-packages/qiskit/circuit/quantumcircuit.py:5626\u001b[0m, in \u001b[0;36m_bit_argument_conversion\u001b[0;34m(specifier, bit_sequence, bit_set, type_)\u001b[0m\n\u001b[1;32m   5624\u001b[0m         \u001b[38;5;28;01mreturn\u001b[39;00m [bit_sequence[specifier]]\n\u001b[1;32m   5625\u001b[0m     \u001b[38;5;28;01mexcept\u001b[39;00m \u001b[38;5;167;01mIndexError\u001b[39;00m \u001b[38;5;28;01mas\u001b[39;00m ex:\n\u001b[0;32m-> 5626\u001b[0m         \u001b[38;5;28;01mraise\u001b[39;00m CircuitError(\n\u001b[1;32m   5627\u001b[0m             \u001b[38;5;124mf\u001b[39m\u001b[38;5;124m\"\u001b[39m\u001b[38;5;124mIndex \u001b[39m\u001b[38;5;132;01m{\u001b[39;00mspecifier\u001b[38;5;132;01m}\u001b[39;00m\u001b[38;5;124m out of range for size \u001b[39m\u001b[38;5;132;01m{\u001b[39;00m\u001b[38;5;28mlen\u001b[39m(bit_sequence)\u001b[38;5;132;01m}\u001b[39;00m\u001b[38;5;124m.\u001b[39m\u001b[38;5;124m\"\u001b[39m\n\u001b[1;32m   5628\u001b[0m         ) \u001b[38;5;28;01mfrom\u001b[39;00m \u001b[38;5;21;01mex\u001b[39;00m\n\u001b[1;32m   5629\u001b[0m \u001b[38;5;66;03m# Slices can't raise IndexError - they just return an empty list.\u001b[39;00m\n\u001b[1;32m   5630\u001b[0m \u001b[38;5;28;01mif\u001b[39;00m \u001b[38;5;28misinstance\u001b[39m(specifier, \u001b[38;5;28mslice\u001b[39m):\n",
      "\u001b[0;31mCircuitError\u001b[0m: 'Index 3 out of range for size 3.'"
     ]
    }
   ],
   "source": [
    "# Initialize qubits\n",
    "#\n",
    "\n",
    "# Set the uknown state |psi> we try protect to anything\n",
    "# qcircuit.initialize([1/np.sqrt(2),-1.j/np.sqrt(2)],0)\n",
    "# qcircuit.initialize([0,1],0)\n",
    "\n",
    "# Set everything else to |0>\n",
    "# qcircuit.initialize([1,0],1)\n",
    "# qcircuit.initialize([1,0],2)\n",
    "qcircuit.initialize([1,0],3)\n",
    "qcircuit.initialize([1,0],4)\n",
    "\n",
    "qcircuit.barrier()"
   ]
  },
  {
   "cell_type": "code",
   "execution_count": null,
   "id": "5f1405ee-67e5-4747-8e4c-cf7e59367c4c",
   "metadata": {},
   "outputs": [],
   "source": [
    "# Entangle |psi> = a|0> + b|1> (qubit 1) with qubits 2,3 and \n",
    "# create the state a|000> + b|111>\n",
    "#\n",
    "qcircuit.cx(0,1)\n",
    "qcircuit.cx(0,2)\n",
    "\n",
    "qcircuit.barrier()"
   ]
  },
  {
   "cell_type": "code",
   "execution_count": null,
   "id": "fe77ea5c-7ff2-4005-8cc5-66beda4c348c",
   "metadata": {},
   "outputs": [],
   "source": [
    "# Introduce an error\n",
    "#\n",
    "\n",
    "# qcircuit.x(0) # bit flip qubit 1\n",
    "qcircuit.x(1) # bit flip qubit 2\n",
    "# qcircuit.x(2) # bit flip qubit 3\n",
    "\n",
    "qcircuit.barrier()"
   ]
  },
  {
   "cell_type": "code",
   "execution_count": null,
   "id": "7f8b7f94-9874-49b1-8faf-962a676d9afb",
   "metadata": {},
   "outputs": [],
   "source": [
    "# Define the joint-parity operators (stabilizers) \n",
    "#\n",
    "# Each stabilizer Zi Zj is implemented by two CNOTs on an anchilla qubit\n",
    "# controlled by qubits i, j\n",
    "\n",
    "# Define S1 = Z1 Z2\n",
    "# Two CNOTs on anchilla qubit 4, controlled by qubits 1,2\n",
    "qcircuit.cx(0,3)\n",
    "qcircuit.cx(1,3)\n",
    "\n",
    "qcircuit.barrier()\n",
    "\n",
    "# Define S2 = Z2 Z3\n",
    "# Two CNOTs on anchilla qubit 5, controlled by qubits 2,3\n",
    "qcircuit.cx(1,4)\n",
    "qcircuit.cx(2,4)\n",
    "\n",
    "qcircuit.barrier()"
   ]
  },
  {
   "cell_type": "code",
   "execution_count": null,
   "id": "be993e8e-8f28-4033-879f-db92d1ba789c",
   "metadata": {},
   "outputs": [],
   "source": [
    "# Measure the stabilizers -> Error syndrome \n",
    "#\n",
    "\n",
    "# Anchilla qubit 4 (5) measurement --> classical register 1 (2)\n",
    "qcircuit.measure([3,4],[0,1]) \n",
    "\n",
    "qcircuit.barrier()\n",
    "# qcircuit.draw(output='mpl')\n",
    "\n",
    "# Note on implementing S1 = Z1 Z2 as two CNOTs.\n",
    "# ---------------------------------------------\n",
    "# S1|00> = +|00>, S1 |01> = -|01>, S1 |10> = -|10>, S1 |11> = +|11> \n",
    "# Therefore the truth table is:\n",
    "#\n",
    "# qubit 1  qubit 2   ||  S1 measurement\n",
    "# -------------------------------------\n",
    "# 0        0         || +1\n",
    "# 0        1         || -1\n",
    "# 1        0         || -1\n",
    "# 1        1         || +1\n",
    "#\n",
    "# On the other hand, the truth table for the 2 CNOT operations is:\n",
    "#\n",
    "# qubit 1  qubit 2   anchilla qubit || anchilla qubit \n",
    "#                    (before CNOTs) || (after CNOTs)\n",
    "# ------------------------------------------------------------------\n",
    "#       0        0              0   ||  0\n",
    "#       0        1              0   ||  1\n",
    "#       1        0              0   ||  1\n",
    "#       1        1              0   ||  0\n",
    "#\n",
    "# Therefore:\n",
    "# - A value of 0 (1) in register 1 corresponds to S1 measurement of +1 (-1)\n",
    "# - A value of 0 (1) in register 2 corresponds to S2 measurement of +1 (-1)\n",
    "#"
   ]
  },
  {
   "cell_type": "code",
   "execution_count": null,
   "id": "0727f8d7-b8e9-4518-a18b-f5183647e135",
   "metadata": {},
   "outputs": [],
   "source": [
    "# The error syndrome measurement above tells me what's wrong without \n",
    "# collapsing the logical state. The table below is adapted from Tab. 3 \n",
    "# in Girvin arXiv:2111.08894, taking into account the info above.\n",
    "#\n",
    "#  S1    S2    | classical  | how Qiskit    | detected | \n",
    "#  measurement | register   | shows (*) the | error    | \n",
    "#              | (<- qubit) | prev. column  |          |\n",
    "#              | 1(4) 2(5)  |               |          |\n",
    "# ------------------------------------------------------\n",
    "#  +1    +1    | 0    0     | {00}          | I        |\n",
    "#  -1    +1    | 1    0     | {01}          | X1       | \n",
    "#  -1    -1    | 1    1     | {11}          | X2       |     \n",
    "#  +1    -1    | 0    1     | {10}          | X3       | \n",
    "#\n",
    "# The classical register 0 (1) holds the measurement on qubit 3 (4)\n",
    "#\n",
    "# (*) i.e. by print(measurement_counts)\n",
    "\n",
    "qcircuit.x(0).c_if(error_syndrome,1)  # error_syndrome = {01}\n",
    "qcircuit.x(1).c_if(error_syndrome,3)  # error_syndrome = {11}\n",
    "qcircuit.x(2).c_if(error_syndrome,2)  # error_syndrome = {10}\n",
    "\n",
    "qcircuit.barrier()"
   ]
  },
  {
   "cell_type": "code",
   "execution_count": null,
   "id": "31d55ec3-0aae-4a29-b169-6568f1263561",
   "metadata": {},
   "outputs": [],
   "source": [
    "# Now measure the 3 qubits that make up the logical qubit\n",
    "qcircuit.measure([0,1,2],[2,3,4]) "
   ]
  },
  {
   "cell_type": "code",
   "execution_count": null,
   "id": "ec8fbb8d-fb4b-4353-802d-b5fb887c88d5",
   "metadata": {},
   "outputs": [],
   "source": [
    "# Draw the completed circuit\n",
    "qcircuit.draw(\"mpl\")"
   ]
  },
  {
   "cell_type": "code",
   "execution_count": null,
   "id": "3572be4e-7b22-412b-b624-23a6564538f0",
   "metadata": {},
   "outputs": [],
   "source": [
    "# Create a backend simulator\n",
    "backend_simulator = Aer.get_backend(\"aer_simulator\")\n",
    "\n",
    "# Transpile the quantum circuit\n",
    "# This generates low-level QASM instructions used by the backend\n",
    "qcircuit_compiled = transpile(qcircuit, backend_simulator)\n",
    "\n",
    "# Execute the circuit on the simulator\n",
    "# Use the specified number of iterations (shots)\n",
    "simulation = backend_simulator.run(qcircuit_compiled, shots=4096)\n",
    "\n",
    "# Get the simulation results\n",
    "simulation_result = simulation.result()\n",
    "\n",
    "# Extract the measurement counts\n",
    "measurement_counts = simulation_result.get_counts(qcircuit_compiled)"
   ]
  },
  {
   "cell_type": "code",
   "execution_count": null,
   "id": "d621e878-fcf2-4d07-80de-9fa9df188152",
   "metadata": {},
   "outputs": [],
   "source": [
    "# Print the counts {xxx xx}\n",
    "# - The first 3 counts are the measurements of {q1 q0 \\psi}\n",
    "#   This should be either {000} or {111}, having corrected an error within the logical qubit\n",
    "# - The last 2 counts are the error syndrome (see table abobe)\n",
    "#   For example,\n",
    "#      >> If no error was introduced, we should see only {00} counts\n",
    "#      >> If a bit flip was introduced in qubit 1, should see only {01} counts\n",
    "print(measurement_counts)"
   ]
  },
  {
   "cell_type": "code",
   "execution_count": null,
   "id": "8f5959b0-953f-4167-9bf8-fcc6f110ce8c",
   "metadata": {},
   "outputs": [],
   "source": [
    "plot_histogram(measurement_counts)"
   ]
  },
  {
   "cell_type": "code",
   "execution_count": null,
   "id": "2c879175-8817-4ab5-b714-80085a7d8bd2",
   "metadata": {},
   "outputs": [],
   "source": []
  }
 ],
 "metadata": {
  "kernelspec": {
   "display_name": "Python 3 (ipykernel)",
   "language": "python",
   "name": "python3"
  },
  "language_info": {
   "codemirror_mode": {
    "name": "ipython",
    "version": 3
   },
   "file_extension": ".py",
   "mimetype": "text/x-python",
   "name": "python",
   "nbconvert_exporter": "python",
   "pygments_lexer": "ipython3",
   "version": "3.10.10"
  }
 },
 "nbformat": 4,
 "nbformat_minor": 5
}
