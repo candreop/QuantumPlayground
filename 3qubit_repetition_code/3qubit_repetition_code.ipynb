{
 "cells": [
  {
   "cell_type": "markdown",
   "id": "fe00523c-67b6-46db-8314-06f0d80d9017",
   "metadata": {},
   "source": [
    "# Implement the 3-qubit repetition code in Qiskit\n",
    "\n",
    "References:\n",
    " - S. Girvin, [SciPost Phys.Lect.Notes 70 (2023) 1, arXiv:2111.08894](https://inspirehep.net/literature/1970411)\n",
    "\n",
    "C.Andreopoulos \\<c.andreopoulos@cern.ch\\> - Dec 5th, 2023"
   ]
  },
  {
   "cell_type": "code",
   "execution_count": 1,
   "id": "5bdcf328-4edd-47b0-85cf-37849534be7c",
   "metadata": {},
   "outputs": [],
   "source": [
    "import numpy as np\n",
    "import re \n",
    "\n",
    "from qiskit import ClassicalRegister\n",
    "from qiskit import QuantumRegister\n",
    "from qiskit import QuantumCircuit\n",
    "from qiskit import BasicAer\n",
    "from qiskit import Aer\n",
    "from qiskit import transpile\n",
    "\n",
    "from qiskit_aer.noise import (NoiseModel, QuantumError, ReadoutError,\n",
    "    pauli_error, depolarizing_error, thermal_relaxation_error)\n",
    "\n",
    "from qiskit.visualization import plot_histogram"
   ]
  },
  {
   "cell_type": "markdown",
   "id": "f469f1bd-6dca-4d1f-ba6c-4f0c6af7f185",
   "metadata": {},
   "source": [
    "**Specify inputs**:\n",
    "\n",
    "- **psi_state_vector**: This 2-D array describes the state vector of the unknown state $|\\psi>$ we aim to protect from errors using the repetion code\n",
    "- **circuit_option**: It selects between 2 different options for constructing the error correction circuit.\n",
    "    - If circuit_option=1, the anchilla qubits are measured, and the logical (3-qubit) state is corrected by applying bit flip (X) gates conditional upon the anchilla qubit measurements.\n",
    "    - If circuit_option=2, the anchilla qubits are not measured prior to correcting the logical state. Instead, we correct the error using a series of Toffoli (CCX) and bit-flip (X) gates as shown in Fig. 17 of arXiv:2111.08894.\n",
    "- **p_err_bit_flip**: Probability for bit flip errors.\n",
    "- **p_err_phase_flip**: Probability for phase flip errors.\n",
    "- **err_qubit_list**: The list of qubits to apply errors, e.g. \\[0,1,2\\] for applying errors to all 3 qubits in a logical qubit, or \\[0\\] for applying the error only to the unknown state $|\\psi>$\n",
    "- **nshots**: Number of \"experiments\" simulated"
   ]
  },
  {
   "cell_type": "code",
   "execution_count": 2,
   "id": "65deae69-ff34-4ced-80c8-aa0518d3e8fd",
   "metadata": {},
   "outputs": [],
   "source": [
    "#psi_state_vector = [1/np.sqrt(2),-1.j/np.sqrt(2)] # (|0>+|1>)/sqrt2\n",
    "psi_state_vector = [1,0] # |0>\n",
    "circuit_option   = 2\n",
    "p_err_bit_flip   = 0.02\n",
    "p_err_phase_flip = 0.0\n",
    "err_qubit_list   = [0,1,2]\n",
    "nshots           = 4096"
   ]
  },
  {
   "cell_type": "markdown",
   "id": "1cc1bc48-5d55-4940-9c3b-cbcef71b44ef",
   "metadata": {},
   "source": [
    "**Define quantum and classical registers in the error correction circuit\n",
    "and create a circuit with these registers.**\n",
    "\n",
    "The circuit consists of 5 qubits:\n",
    "\n",
    "| # | QISKit Id | Name      | Details   |    \n",
    "|---|-----------|-----------|-----------|\n",
    "|1|0|$\\psi$|Qubit whose original unknown state $|\\psi>$ we try to protect |\n",
    "|2|1|$q_0$ |1$^{st}$ qubit entangled with $\\psi$ to form a *logical qubit* (with basis states $|000>$ and $|111>$) |\n",
    "|3|2|$q_1$ |2$^{nd}$ qubit entangled with $\\psi$ to form a *logical qubit* |\n",
    "|4|3|$c_0$ |1$^{st}$ anchilla qubit for mapping joint parity (error syndrome) $S_1$ |\n",
    "|5|4|$c_1$ |2$^{nd}$ anchilla qubit for mapping joint parity (error syndrome) $S_2$ |"
   ]
  },
  {
   "cell_type": "code",
   "execution_count": 3,
   "id": "4b7d2927-e56c-4b06-af3b-29f502d5e76b",
   "metadata": {},
   "outputs": [],
   "source": [
    "def instantiate_circuit(psi_state_vector):\n",
    "    \n",
    "    # The unknown state |psi> we need to protect\n",
    "    psi = QuantumRegister(name='\\psi', size=1) \n",
    "\n",
    "    # Anchilla qubits entangled with |\\psi> to create the \n",
    "    # logical states |0>_L = |000> and |1>_L = |111>\n",
    "    q = QuantumRegister(name='q', size=2) \n",
    "\n",
    "    # Anchilla qubits used for error syndrome measurements\n",
    "    c = QuantumRegister(name='c', size=2) \n",
    "\n",
    "    # Error syndrome measurements\n",
    "    error_syndrome = ClassicalRegister (name='syndrome', size=2)\n",
    "    \n",
    "    # Logical qubit measurements\n",
    "    data = ClassicalRegister (name='l', size=3)\n",
    "\n",
    "    # Instantiate a quantum circuit with the above registers\n",
    "    qcircuit = QuantumCircuit(psi,q,c,error_syndrome,data)\n",
    "\n",
    "    # Initialize qubits: \n",
    "    # Set the unknown state |psi> as specified by the user and everything else to |0>\n",
    "    qcircuit.initialize(psi_state_vector, 0)\n",
    "    qcircuit.initialize([1,0], 1)\n",
    "    qcircuit.initialize([1,0], 2)\n",
    "    qcircuit.initialize([1,0], 3)\n",
    "    qcircuit.initialize([1,0], 4)\n",
    "\n",
    "    # Entangle |psi> = a|0> + b|1> (qubit 1) with qubits 2,3 and \n",
    "    # create the state a|000> + b|111>\n",
    "    qcircuit.cx(0,1)\n",
    "    qcircuit.cx(0,2)\n",
    "\n",
    "    qcircuit.barrier()\n",
    "\n",
    "    return qcircuit"
   ]
  },
  {
   "cell_type": "markdown",
   "id": "97298d00-045b-4f93-ab81-96c092510681",
   "metadata": {},
   "source": [
    "**Introduce errors** using various QISKit methods"
   ]
  },
  {
   "cell_type": "markdown",
   "id": "b6fdb433-eb07-4334-bc58-14c5d4fcc271",
   "metadata": {},
   "source": [
    "The following is a **simple method for introducing bit flip and phase flip errors**.\n",
    "With the inputs, ones specifies the the probability of each error, and the list of qubits where to apply errors (eg use \\[0,1,2\\] for all qubits in a logical qubit)."
   ]
  },
  {
   "cell_type": "code",
   "execution_count": 4,
   "id": "c153aff2-c3db-4609-b48c-f4357a5748df",
   "metadata": {},
   "outputs": [],
   "source": [
    "def bit_phase_flip_errors(qcircuit, p_err_bit_flip, p_err_phase_flip, qubit_list):\n",
    "    p_no_err = 1 - p_err_bit_flip - p_err_phase_flip\n",
    "    err = pauli_error(\n",
    "        [('X', p_err_bit_flip), \n",
    "         ('Z', p_err_phase_flip), \n",
    "         ('I', p_no_err)])\n",
    "    for qubit in qubit_list:\n",
    "        qcircuit.append(err, [qubit])  \n",
    "    qcircuit.barrier()"
   ]
  },
  {
   "cell_type": "markdown",
   "id": "abe71929-6b73-4015-bf31-36596f0a0512",
   "metadata": {},
   "source": [
    "Below is a **more advanced method of introducing errors by creating and returning a *NoiseModel***. This model is then passed to the backend simulating the circuit.\n",
    "\n",
    "Currently, only bit flip and phase flip errors are included with probabilities p_err_bit_flip and p_err_phase_flip.\n",
    "The two errors are composed as follows:\n",
    "\n",
    "| Error | Probablity | \n",
    "|-------|------------|\n",
    "| Bit and phase flip | p_err_bit_flip     *    p_err_phase_flip   |\n",
    "| Bit flip only      | p_err_bit_flip     * (1-p_err_phase_flip)  |\n",
    "| Phase flip only    | (1-p_err_bit_flip) *    p_err_phase_flip   |\n",
    "| No error           | (1-p_err_bit_flip) * (1-p_err_phase_flip)  |\n"
   ]
  },
  {
   "cell_type": "code",
   "execution_count": 5,
   "id": "fe77ea5c-7ff2-4005-8cc5-66beda4c348c",
   "metadata": {},
   "outputs": [],
   "source": [
    "def noise_model(p_err_bit_flip, p_err_phase_flip):\n",
    "    \n",
    "    # Build the bit and phase flip errors\n",
    "    err_bit_flip   = pauli_error([('X', p_err_bit_flip),   ('I', 1 - p_err_bit_flip)])\n",
    "    err_phase_flip = pauli_error([('Z', p_err_phase_flip), ('I', 1 - p_err_phase_flip)])    \n",
    "    # Compose two errors:\n",
    "    err_bitphase_flip = err_bit_flip.compose(err_phase_flip)\n",
    "    print(err_bitphase_flip)\n",
    "    # Build a noise model and add above errors\n",
    "    nm = NoiseModel()\n",
    "    nm.add_all_qubit_quantum_error(err_bitphase_flip, \"measure\")\n",
    "\n",
    "    return nm"
   ]
  },
  {
   "cell_type": "markdown",
   "id": "7c29f5f4-d226-4d50-a4d5-751923df56bc",
   "metadata": {},
   "source": [
    "**Define the joint-parity operators (stabilizers)**\n",
    "\n",
    "The two error syndromes are mapped to anchilla qubits 4, 5.\n",
    "\n",
    "Each stabilizer $Z_i$ $Z_j$ is implemented by two CNOT gates on an anchilla qubit controlled by qubits $i$, $j$.\n",
    "\n",
    "- $S_1$ = $Z_1 Z_2$, is defined by two CNOTs on anchilla qubit 4, controlled by qubits 1,2\n",
    "- $S_2$ = $Z_3 Z_4$, is defined by two CNOTs on anchilla qubit 5, controlled by qubits 2,3"
   ]
  },
  {
   "cell_type": "code",
   "execution_count": 6,
   "id": "7f8b7f94-9874-49b1-8faf-962a676d9afb",
   "metadata": {},
   "outputs": [],
   "source": [
    "def add_stabilizer_operators(qcircuit):\n",
    "\n",
    "    # Define S1 = Z1 Z2\n",
    "    qcircuit.cx(0,3)\n",
    "    qcircuit.cx(1,3)\n",
    "    \n",
    "    # Define S2 = Z2 Z3\n",
    "    qcircuit.cx(1,4)\n",
    "    qcircuit.cx(2,4)\n",
    "\n",
    "    qcircuit.barrier()"
   ]
  },
  {
   "cell_type": "markdown",
   "id": "b15667e1-449d-4135-8cd8-fff5472a5b53",
   "metadata": {},
   "source": [
    "**Apply error correction**\n",
    "\n",
    "If **circuit_option=1**, the anchilla qubits 4,5, where the error syndromes were mapped to, are measured. Then, the logical qubit state is corrected by CX gates applied conditionally upon the outcome of these measurements.\n",
    "\n",
    "If **circuit_option=2**, the logical qubit state is corrected by a series of X and CCX gates conditioned upon the anchilla qubits 4,5. No measurement of the anchilla qubits is required to correct the logical qubit. In any case, for completeness and to understand what the code tried to correct, the anchilla qubits 4,5 are also measured after the correction.\n",
    "\n",
    "In both bases, the anchilla qubit 4 (5) measurement is stored at the classical register 1 (2).\n",
    "\n",
    "*Note on implementing the error syndrome as two CX gates*\n",
    "\n",
    "$S_1$|00> = +|00>, $S_1$ |01> = -|01>, $S_1$ |10> = -|10>, $S_1$ |11> = +|11> \n",
    "Therefore the truth table is:\n",
    "\n",
    "| qubit 1  | qubit 2  |  S1 measurement  | \n",
    "|----------|----------|------------------|\n",
    "|       0  |       0  | +1               |\n",
    "|       0  |       1  | -1               |\n",
    "|       1  |       0  | -1               |\n",
    "|       1  |       1  | +1               |\n",
    "\n",
    "On the other hand, for an anchilla qubit originally in state $|0>$,\n",
    "the corresponding truth table for the two CX operations is:\n",
    "\n",
    "| qubit 1  | qubit 2  | anchilla qubit state |\n",
    "|----------|----------|----------------------|\n",
    "|       0  |      0   |            0         |\n",
    "|       0  |      1   |            1         |\n",
    "|       1  |      0   |            1         |\n",
    "|       1  |      1   |            0         |\n",
    "\n",
    "Therefore:\n",
    "- A value of 0 (1) in register 1 corresponds to $S_1$ measurement of +1 (-1)\n",
    "- A value of 0 (1) in register 2 corresponds to $S_2$ measurement of +1 (-1)\n",
    "\n",
    "The error syndrome measurement tells me what's wrong without collapsing the logical state. \n",
    "The table below is adapted from Tab. 3  in Girvin arXiv:2111.08894, taking into account the above.\n",
    "\n",
    "<!-- \n",
    "  S1    S2    | classical  | how Qiskit    | detected | \n",
    "  measurement | register   | shows (*) the | error    | \n",
    "              | (<- qubit) | prev. column  |          |\n",
    "              | 1(4) 2(5)  |               |          |\n",
    " -->\n",
    "| $S_1$ | $S_2$ | bit (qubit): 1 (4) | bit (qubit): 2 (5) | Shown by QISKit as | Detected error |\n",
    "|-------|-------|-----|-----|-------|---------|\n",
    "|  +1   |  +1   |  0  |  0  | {00}  | $I$     |\n",
    "|  -1   |  +1   |  1  |  0  | {01}  | $X_1$   | \n",
    "|  -1   |  -1   |  1  |  1  | {11}  | $X_2$   |     \n",
    "|  +1   |  -1   |  0  |  1  | {10}  | $X_3$   | \n"
   ]
  },
  {
   "cell_type": "code",
   "execution_count": 7,
   "id": "be993e8e-8f28-4033-879f-db92d1ba789c",
   "metadata": {},
   "outputs": [],
   "source": [
    "def add_error_correction_circuit(qcircuit, circuit_option):\n",
    "\n",
    "    if(circuit_option==1):\n",
    "        qcircuit.measure([3,4],[0,1]) \n",
    "        qcircuit.barrier()\n",
    "        syndrome = qcircuit.clbits[0].register # deprecated: Use QuantumCircuit.find_bit instead\n",
    "        qcircuit.x(0).c_if(syndrome,1)  # conditioned upon error_syndrome = {01}\n",
    "        qcircuit.x(1).c_if(syndrome,3)  # conditioned upon error_syndrome = {11}\n",
    "        qcircuit.x(2).c_if(syndrome,2)  # conditioned upon error_syndrome = {10}\n",
    "        qcircuit.barrier()\n",
    "\n",
    "    elif(circuit_option==2):\n",
    "        qcircuit.ccx(4,3,1)\n",
    "        qcircuit.x(4)\n",
    "        qcircuit.ccx(4,3,0)\n",
    "        qcircuit.x(3)\n",
    "        qcircuit.x(4)\n",
    "        qcircuit.ccx(4,3,2)\n",
    "        qcircuit.barrier()\n",
    "        # The above has corrected the errors that can be corrected by this code.\n",
    "        # It is not required to measure the anchilla bits, but do it anyhow to have \n",
    "        # the same measurement outcome irrespective of the `circuit_option' setting.\n",
    "        # However note that, along the way, qubit 4 was flipped. \n",
    "        # So flip it once more, to return to the original state describing the error syndrome.\n",
    "        qcircuit.x(3)\n",
    "        qcircuit.measure([3,4],[0,1]) \n",
    "        qcircuit.barrier()"
   ]
  },
  {
   "cell_type": "markdown",
   "id": "8367b787-7b72-4866-8874-98388f417c47",
   "metadata": {},
   "source": [
    "**Measure the 3 qubits that make up the logical qubit**"
   ]
  },
  {
   "cell_type": "code",
   "execution_count": 8,
   "id": "31d55ec3-0aae-4a29-b169-6568f1263561",
   "metadata": {},
   "outputs": [],
   "source": [
    "def measure_logical_qubit(qcircuit):\n",
    "    qcircuit.measure([0,1,2],[2,3,4]) "
   ]
  },
  {
   "cell_type": "markdown",
   "id": "68afc0d1-0b82-4582-a4bc-361f1cff3f8d",
   "metadata": {},
   "source": [
    "**Run the quantum circuit**"
   ]
  },
  {
   "cell_type": "code",
   "execution_count": 9,
   "id": "3572be4e-7b22-412b-b624-23a6564538f0",
   "metadata": {},
   "outputs": [],
   "source": [
    "def run_the_circuit(qcircuit,nshots=1024,nm=None):\n",
    "\n",
    "    # Create a backend simulator\n",
    "    # backend = BasicAer.get_backend(\"qasm_simulator\")\n",
    "    backend = Aer.get_backend(\"aer_simulator\")\n",
    "    if(nm != None):\n",
    "        backend.set_options(noise_model=nm)\n",
    "\n",
    "    # Transpile the quantum circuit\n",
    "    # This generates low-level QASM instructions used by the backend\n",
    "    qcircuit_compiled = transpile(qcircuit, backend)\n",
    "\n",
    "    # Execute the circuit on the simulator\n",
    "    # Use the specified number of iterations (shots)\n",
    "    simulation_job = backend.run(qcircuit_compiled,shots=nshots)\n",
    "\n",
    "    # Get the simulation results\n",
    "    simulation_result = simulation_job.result()\n",
    "\n",
    "    return qcircuit_compiled, simulation_result"
   ]
  },
  {
   "cell_type": "markdown",
   "id": "acfc245c-1846-43a7-9a08-55302637eccf",
   "metadata": {},
   "source": [
    "## Test"
   ]
  },
  {
   "cell_type": "markdown",
   "id": "9839d1a5-2b8f-449f-bd75-26f39cd56207",
   "metadata": {},
   "source": [
    "Initialize the quantum circuit"
   ]
  },
  {
   "cell_type": "code",
   "execution_count": 10,
   "id": "2c879175-8817-4ab5-b714-80085a7d8bd2",
   "metadata": {},
   "outputs": [],
   "source": [
    "qcircuit = instantiate_circuit(psi_state_vector)"
   ]
  },
  {
   "cell_type": "markdown",
   "id": "19eee5d5-b2a0-4a86-9f81-1bd40e97528f",
   "metadata": {},
   "source": [
    "**Introduce errors** (various methods supported)\n",
    "\n",
    "Set $|\\psi>$ to $|0>$ and run the following simple scenarios and check that the 3 qubit repetition code implemented here performs as expected:\n",
    " - Introduce a **bit flip error in a single qubit** by running bit_phase_flip_errors(qcircuit, p_err, 0, \\[0\\]): <br>\n",
    "   The code should correct all errors.<br>\n",
    "   Measurements counts should be {000 00} with probability = 1-p_err\n",
    "   and {000 01} with probability = p_err\n",
    " - Introduce a **bit flip error on any of the 3 qubits** of the logical state by running bit_phase_flip_errors(qcircuit, p_err, 0, \\[0,1,2\\]): <br>\n",
    "   The code should correct all cases with 1 error, but fail if $>$1 errors occur.<br>\n",
    "   Measurements counts should be:\n",
    "   - {000 00} with probability = 1-3*p_err\n",
    "   - {000 01}, {000 10}, {000 11} with probability = p_err\n",
    "   - failed (other) cases with probability = 3*p_err^2\n",
    "     "
   ]
  },
  {
   "cell_type": "code",
   "execution_count": 11,
   "id": "d6d179c3-a21c-4ce3-abbd-47d870f4ea90",
   "metadata": {},
   "outputs": [],
   "source": [
    "# a simple method of introducing errors\n",
    "bit_phase_flip_errors(qcircuit, p_err_bit_flip, p_err_phase_flip, err_qubit_list)\n",
    "\n",
    "# a more advanced method of introducing errors\n",
    "nm = None\n",
    "# nm = noise_model(p_err_bit_flip, p_err_phase_flip)\n",
    "# print(nm)"
   ]
  },
  {
   "cell_type": "code",
   "execution_count": 12,
   "id": "2795bc2d-0e99-4ce1-aa12-8e4461df4aa1",
   "metadata": {},
   "outputs": [
    {
     "name": "stderr",
     "output_type": "stream",
     "text": [
      "/usr/local/lib/python3.10/site-packages/qiskit/visualization/circuit/matplotlib.py:266: FutureWarning: The default matplotlib drawer scheme will be changed to \"iqp\" in a following release. To silence this warning, specify the current default explicitly as style=\"clifford\", or the new default as style=\"iqp\".\n",
      "  self._style, def_font_ratio = load_style(self._style)\n"
     ]
    },
    {
     "data": {
      "image/png": "[encoded data removed]",
      "text/plain": [
       "<Figure size 2317.92x618.722 with 1 Axes>"
      ]
     },
     "execution_count": 12,
     "metadata": {},
     "output_type": "execute_result"
    }
   ],
   "source": [
    "# add stabiliser, error correction & measure\n",
    "\n",
    "add_stabilizer_operators     (qcircuit)\n",
    "add_error_correction_circuit (qcircuit,circuit_option)\n",
    "measure_logical_qubit        (qcircuit)\n",
    "\n",
    "qcircuit.draw(\"mpl\")"
   ]
  },
  {
   "cell_type": "code",
   "execution_count": 13,
   "id": "6ee9d4d3-b633-4fed-8c01-b699dacde061",
   "metadata": {},
   "outputs": [],
   "source": [
    "# Simulate\n",
    "qcircuit_compiled, simulation_result = run_the_circuit(qcircuit,nshots,nm)"
   ]
  },
  {
   "cell_type": "markdown",
   "id": "313d3b73-dede-45c8-aebb-903f1bd19ae4",
   "metadata": {},
   "source": [
    "**Get and print/plot the measurement counts**\n",
    "\n",
    "The measurement counts are reported as: {xxx xx}\n",
    "\n",
    "- The first 3 counts are the measurements of {q1 q0 \\psi}\n",
    "  This should be either {000} or {111}, having corrected an error within the logical qubit\n",
    "- The last 2 counts are the error syndrome (see Table in comments above).\n",
    "  For example:\n",
    "    - If no error was introduced, we should see only {00} counts\n",
    "    - If a bit flip was introduced in qubit 1, should see only {01} counts"
   ]
  },
  {
   "cell_type": "code",
   "execution_count": 14,
   "id": "d621e878-fcf2-4d07-80de-9fa9df188152",
   "metadata": {},
   "outputs": [
    {
     "name": "stdout",
     "output_type": "stream",
     "text": [
      "{'111 10': 2, '111 11': 3, '000 01': 87, '000 11': 81, '111 01': 3, '000 10': 82, '000 00': 3838}\n"
     ]
    }
   ],
   "source": [
    "measurement_counts = simulation_result.get_counts(qcircuit_compiled)\n",
    "print(measurement_counts)"
   ]
  },
  {
   "cell_type": "code",
   "execution_count": 15,
   "id": "8f5959b0-953f-4167-9bf8-fcc6f110ce8c",
   "metadata": {},
   "outputs": [
    {
     "data": {
      "image/png": "[encoded data removed]",
      "text/plain": [
       "<Figure size 700x500 with 1 Axes>"
      ]
     },
     "execution_count": 15,
     "metadata": {},
     "output_type": "execute_result"
    }
   ],
   "source": [
    "plot_histogram(measurement_counts)"
   ]
  },
  {
   "cell_type": "markdown",
   "id": "52d69b1f-bbde-47ee-9a28-7bc500de6a07",
   "metadata": {},
   "source": [
    "Count the fraction of shots resulting in a logical state that does not match the input one.\n",
    "The code below works only if $|psi>$ is set to $|0>$ or $|1>$."
   ]
  },
  {
   "cell_type": "code",
   "execution_count": 16,
   "id": "bdf6a19d-b857-42b7-9800-06ac157387bd",
   "metadata": {},
   "outputs": [
    {
     "name": "stdout",
     "output_type": "stream",
     "text": [
      "4088  ( 99.8046875 %) of shots resulted in a correct logical state\n"
     ]
    }
   ],
   "source": [
    "pattern = None\n",
    "\n",
    "if   (np.array_equal(psi_state_vector,[1,0])): pattern = '000 \\w*'\n",
    "elif (np.array_equal(psi_state_vector,[0,1])): pattern = '111 \\w*'\n",
    "\n",
    "if (pattern != None):\n",
    "    selected_counts = [measurement_counts[key] for key in measurement_counts if re.match(pattern,key)!=None]\n",
    "    nshots_correct = np.sum(selected_counts)\n",
    "    frac_correct = nshots_correct/nshots\n",
    "    print(nshots_correct, \" (\", 100*frac_correct, \"%) of shots resulted in a correct logical state\")"
   ]
  },
  {
   "cell_type": "code",
   "execution_count": 17,
   "id": "3f90fc36-0711-4e9e-a905-c74c3361634d",
   "metadata": {},
   "outputs": [
    {
     "data": {
      "text/html": [
       "<h3>Version Information</h3><table><tr><th>Software</th><th>Version</th></tr><tr><td><code>qiskit</code></td><td>0.45.0</td></tr><tr><td><code>qiskit_aer</code></td><td>0.13.1</td></tr><tr><th colspan='2'>System information</th></tr><tr><td>Python version</td><td>3.10.10</td></tr><tr><td>Python compiler</td><td>Clang 14.0.0 (clang-1400.0.29.202)</td></tr><tr><td>Python build</td><td>main, Feb 16 2023 02:55:02</td></tr><tr><td>OS</td><td>Darwin</td></tr><tr><td>CPUs</td><td>8</td></tr><tr><td>Memory (Gb)</td><td>16.0</td></tr><tr><td colspan='2'>Tue Dec 05 11:56:35 2023 GMT</td></tr></table>"
      ],
      "text/plain": [
       "<IPython.core.display.HTML object>"
      ]
     },
     "metadata": {},
     "output_type": "display_data"
    }
   ],
   "source": [
    "import qiskit.tools.jupyter\n",
    "%qiskit_version_table"
   ]
  }
 ],
 "metadata": {
  "kernelspec": {
   "display_name": "Python 3 (ipykernel)",
   "language": "python",
   "name": "python3"
  },
  "language_info": {
   "codemirror_mode": {
    "name": "ipython",
    "version": 3
   },
   "file_extension": ".py",
   "mimetype": "text/x-python",
   "name": "python",
   "nbconvert_exporter": "python",
   "pygments_lexer": "ipython3",
   "version": "3.10.10"
  }
 },
 "nbformat": 4,
 "nbformat_minor": 5
}
